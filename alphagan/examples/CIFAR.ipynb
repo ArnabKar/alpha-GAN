{
 "cells": [
  {
   "cell_type": "code",
   "execution_count": 1,
   "metadata": {
    "collapsed": true
   },
   "outputs": [],
   "source": [
    "use_gpu = False\n",
    "data_dir = '/home/victor/data-ssd'"
   ]
  },
  {
   "cell_type": "code",
   "execution_count": 2,
   "metadata": {},
   "outputs": [],
   "source": [
    "import sys\n",
    "sys.path.append('../')\n",
    "\n",
    "%load_ext autoreload\n",
    "%autoreload 1\n",
    "%aimport alphagan"
   ]
  },
  {
   "cell_type": "code",
   "execution_count": 3,
   "metadata": {
    "collapsed": true
   },
   "outputs": [],
   "source": [
    "from collections import defaultdict\n",
    "from psutil import cpu_count\n",
    "\n",
    "import numpy as np\n",
    "import pandas as pd\n",
    "\n",
    "import torch\n",
    "from torch import nn\n",
    "from torch.nn import init, Parameter\n",
    "import torch.nn.functional as F\n",
    "from torch.autograd import Variable\n",
    "from torch.utils.data import DataLoader\n",
    "from torchvision import datasets, models, transforms\n",
    "from torchvision.utils import make_grid\n",
    "\n",
    "import matplotlib.pyplot as plt\n",
    "%matplotlib inline"
   ]
  },
  {
   "cell_type": "code",
   "execution_count": 4,
   "metadata": {},
   "outputs": [
    {
     "data": {
      "text/plain": [
       "torch.Size([50000, 3, 32, 32])"
      ]
     },
     "execution_count": 4,
     "metadata": {},
     "output_type": "execute_result"
    }
   ],
   "source": [
    "cifar = datasets.CIFAR100(\n",
    "    data_dir,\n",
    "    train=True,\n",
    "    transform=transforms.Compose([\n",
    "        transforms.ToTensor(),\n",
    "        transforms.Normalize(\n",
    "            mean= [ 0.5071, 0.4865, 0.4409 ],\n",
    "            std = [ 0.2673, 0.2564, 0.2762 ]\n",
    "        ),\n",
    "    ]),\n",
    "    target_transform=None,\n",
    "    download=False)\n",
    "cifar = torch.stack(list(zip(*cifar))[0])\n",
    "cifar.size()"
   ]
  },
  {
   "cell_type": "code",
   "execution_count": 5,
   "metadata": {},
   "outputs": [
    {
     "data": {
      "text/plain": [
       "torch.Size([10000, 3, 32, 32])"
      ]
     },
     "execution_count": 5,
     "metadata": {},
     "output_type": "execute_result"
    }
   ],
   "source": [
    "cifar_test = datasets.CIFAR100(\n",
    "    data_dir,\n",
    "    train=False,\n",
    "    transform=transforms.Compose([\n",
    "        transforms.ToTensor(),\n",
    "        transforms.Normalize(\n",
    "            mean= [ 0.5071, 0.4865, 0.4409 ],\n",
    "            std = [ 0.2673, 0.2564, 0.2762 ]\n",
    "        ),\n",
    "    ]),\n",
    "    target_transform=None,\n",
    "    download=False)\n",
    "cifar_test = torch.stack(list(zip(*cifar_test))[0])\n",
    "cifar_test.size()                          "
   ]
  },
  {
   "cell_type": "code",
   "execution_count": 6,
   "metadata": {
    "collapsed": true
   },
   "outputs": [],
   "source": [
    "batch_size = 64"
   ]
  },
  {
   "cell_type": "code",
   "execution_count": 7,
   "metadata": {
    "collapsed": true
   },
   "outputs": [],
   "source": [
    "n_train, n_test = len(cifar)//1, batch_size*2\n",
    "\n",
    "num_workers = cpu_count() if use_gpu else 0\n",
    "\n",
    "train_idxs = torch.LongTensor(np.random.permutation(len(cifar))[:n_train])\n",
    "X_train = DataLoader(cifar[train_idxs], batch_size=batch_size, shuffle=True,\n",
    "                     num_workers=num_workers, pin_memory=use_gpu)\n",
    "test_idxs = torch.LongTensor(np.random.permutation(len(cifar_test))[:n_test])\n",
    "X_test = DataLoader(cifar_test[test_idxs], batch_size=batch_size, shuffle=False\n",
    "                   num_workers=num_workers, pin_memory=use_gpu)"
   ]
  },
  {
   "cell_type": "code",
   "execution_count": 8,
   "metadata": {
    "collapsed": true
   },
   "outputs": [],
   "source": [
    "# I think broadcasting should make these unnecessary in the next pytorch release\n",
    "class ChannelsToLinear(nn.Linear):\n",
    "    def forward(self, x):\n",
    "        return super().forward(x.squeeze(-1).squeeze(-1))\n",
    "class LinearToChannels(nn.Linear):\n",
    "    def forward(self, x):\n",
    "        return super().forward(x).unsqueeze(-1).unsqueeze(-1)\n",
    "\n",
    "# versatile ResNet block which can be upsampling or downsampling\n",
    "class ResBlock(nn.Module):\n",
    "    def __init__(self, c,\n",
    "                 activation=nn.LeakyReLU, norm=nn.BatchNorm2d,\n",
    "                 upsample=1, downsample=1):\n",
    "        super().__init__()\n",
    "        self.a1 = activation()\n",
    "        self.a2 = activation()\n",
    "        self.norm1 = norm(c)\n",
    "        self.norm2 = norm(c)\n",
    "        \n",
    "        self.resample=None\n",
    "        assert upsample==1 or downsample==1\n",
    "        if upsample>1:\n",
    "            self.conv1 = nn.ConvTranspose2d(c, c, upsample, upsample)\n",
    "            self.resample = nn.UpsamplingNearest2d(scale_factor=upsample)\n",
    "        else:\n",
    "            self.conv1 = nn.Conv2d(c, c, 3, downsample, 1)\n",
    "        if downsample>1:\n",
    "            self.resample = nn.AvgPool2d(downsample)\n",
    "            \n",
    "        self.conv2 = nn.Conv2d(c, c, 3, 1, 1)\n",
    "        \n",
    "        init.xavier_uniform(self.conv1.weight, 2)\n",
    "        init.xavier_uniform(self.conv2.weight, 2)\n",
    "        \n",
    "    def forward(self, x):\n",
    "        \n",
    "        y = self.conv1(x)\n",
    "        y = self.norm1(y)\n",
    "        y = self.a1(y)\n",
    "        y = self.conv2(y)\n",
    "        y = self.norm2(y)\n",
    "        \n",
    "        if self.resample:\n",
    "            x = self.resample(x)\n",
    "        \n",
    "        return self.a2(x+y)"
   ]
  },
  {
   "cell_type": "code",
   "execution_count": 9,
   "metadata": {
    "collapsed": true
   },
   "outputs": [],
   "source": [
    "latent_dim = 128"
   ]
  },
  {
   "cell_type": "code",
   "execution_count": 10,
   "metadata": {},
   "outputs": [],
   "source": [
    "h = 128\n",
    "pool = nn.AvgPool2d\n",
    "norm = nn.BatchNorm2d\n",
    "a = lambda: nn.LeakyReLU(.2)\n",
    "E = nn.Sequential(\n",
    "    nn.Conv2d(3,h,3,2,1), norm(h), a(),\n",
    "    ResBlock(h, activation=a, norm=norm, downsample=2),\n",
    "    ResBlock(h, activation=a, norm=norm),\n",
    "    ResBlock(h, activation=a, norm=norm),\n",
    "    a(), pool(8),\n",
    "    ChannelsToLinear(h, latent_dim)\n",
    ")\n",
    "\n",
    "for layer in (E[0], E[8]):\n",
    "    init.xavier_uniform(layer.weight, 2)\n",
    "\n",
    "t = Variable(torch.randn(batch_size,3,32,32))\n",
    "assert E(t).size() == (batch_size,latent_dim)"
   ]
  },
  {
   "cell_type": "code",
   "execution_count": 11,
   "metadata": {},
   "outputs": [],
   "source": [
    "h = 128\n",
    "pool = nn.AvgPool2d\n",
    "norm = nn.BatchNorm2d\n",
    "a = lambda: nn.LeakyReLU(.2)\n",
    "G = nn.Sequential(\n",
    "    LinearToChannels(latent_dim, h), norm(h), a(),\n",
    "    nn.ConvTranspose2d(h, h, 4, 1), norm(h), a(),\n",
    "    ResBlock(h, activation=a, norm=norm, upsample=2),\n",
    "    ResBlock(h, activation=a, norm=norm, upsample=2),\n",
    "    ResBlock(h, activation=a, norm=norm, upsample=2),\n",
    "    nn.Conv2d(h, 3, 1, 1), nn.Tanh()\n",
    ")\n",
    "\n",
    "for layer in (G[0], G[3], G[9]):\n",
    "    init.xavier_uniform(layer.weight, 2)\n",
    "\n",
    "t = Variable(torch.randn(batch_size,latent_dim))\n",
    "assert G(t).size() == (batch_size,3,32,32)"
   ]
  },
  {
   "cell_type": "code",
   "execution_count": 12,
   "metadata": {},
   "outputs": [],
   "source": [
    "h = 128\n",
    "pool = nn.AvgPool2d\n",
    "norm = nn.BatchNorm2d\n",
    "a = lambda: nn.LeakyReLU(.2)\n",
    "D = nn.Sequential(\n",
    "    nn.Conv2d(3,h,3,2,1), norm(h), a(),\n",
    "    ResBlock(h, activation=a, norm=norm, downsample=2),\n",
    "    ResBlock(h, activation=a, norm=norm),\n",
    "    ResBlock(h, activation=a, norm=norm),\n",
    "    a(), pool(8),\n",
    "    ChannelsToLinear(h, 1), nn.Sigmoid()\n",
    ")\n",
    "\n",
    "for layer in (D[0], D[8]):\n",
    "    init.xavier_uniform(layer.weight, 2)\n",
    "    \n",
    "t = Variable(torch.randn(batch_size,3,32,32))\n",
    "assert D(t).size() == (batch_size,1)"
   ]
  },
  {
   "cell_type": "code",
   "execution_count": 13,
   "metadata": {},
   "outputs": [],
   "source": [
    "h = 256\n",
    "a = lambda: nn.LeakyReLU(.2)\n",
    "norm = nn.BatchNorm1d\n",
    "C = nn.Sequential(\n",
    "    nn.Linear(latent_dim, h), norm(h), a(),\n",
    "    nn.Linear(h, h), norm(h), a(),\n",
    "    nn.Linear(h, 1), nn.Sigmoid(),\n",
    ")\n",
    "\n",
    "for i,layer in enumerate(C):\n",
    "    if i%3==0:\n",
    "        init.xavier_uniform(layer.weight, 2)\n",
    "\n",
    "t = Variable(torch.randn(batch_size,latent_dim))\n",
    "assert C(t).size() == (batch_size,1)"
   ]
  },
  {
   "cell_type": "code",
   "execution_count": 14,
   "metadata": {
    "collapsed": true
   },
   "outputs": [],
   "source": [
    "model = alphagan.AlphaGAN(E, G, D, C, latent_dim, lambd=10)\n",
    "if use_gpu:\n",
    "    model = model.cuda()"
   ]
  },
  {
   "cell_type": "code",
   "execution_count": null,
   "metadata": {
    "collapsed": true
   },
   "outputs": [],
   "source": [
    "diag = []\n",
    "def log_fn(d):\n",
    "    d = pd.DataFrame(d)\n",
    "    diag.append(d)\n",
    "    print(d)"
   ]
  },
  {
   "cell_type": "code",
   "execution_count": null,
   "metadata": {},
   "outputs": [
    {
     "data": {
      "application/vnd.jupyter.widget-view+json": {
       "model_id": "0be8524bd38a4822be0e24fb80e4ed88"
      }
     },
     "metadata": {},
     "output_type": "display_data"
    },
    {
     "data": {
      "application/vnd.jupyter.widget-view+json": {
       "model_id": "5b8a1c25549f4a8a9421737a43c97027"
      }
     },
     "metadata": {},
     "output_type": "display_data"
    },
    {
     "data": {
      "application/vnd.jupyter.widget-view+json": {
       "model_id": "0aa9bc66426244a9b55d25bafa651c61"
      }
     },
     "metadata": {},
     "output_type": "display_data"
    },
    {
     "name": "stdout",
     "output_type": "stream",
     "text": [
      "                            train     valid\n",
      "adversarial_loss         0.853070  1.056818\n",
      "code_adversarial_loss    0.563226  0.701381\n",
      "code_discriminator_loss  1.533614  2.004757\n",
      "discriminator_loss       1.103842  1.382987\n",
      "reconstruction_loss      6.001062  6.254596\n"
     ]
    },
    {
     "data": {
      "application/vnd.jupyter.widget-view+json": {
       "model_id": "4e1281e62c5d4b13bad5ab88ada2cbd2"
      }
     },
     "metadata": {},
     "output_type": "display_data"
    },
    {
     "data": {
      "application/vnd.jupyter.widget-view+json": {
       "model_id": "befe856e4bdc46f8ad456b7c406e5cbf"
      }
     },
     "metadata": {},
     "output_type": "display_data"
    },
    {
     "name": "stdout",
     "output_type": "stream",
     "text": [
      "                            train     valid\n",
      "adversarial_loss         1.007841  0.958896\n",
      "code_adversarial_loss    0.670605  0.716657\n",
      "code_discriminator_loss  1.466481  1.609074\n",
      "discriminator_loss       1.009035  1.286111\n",
      "reconstruction_loss      5.298485  6.152698\n"
     ]
    },
    {
     "data": {
      "application/vnd.jupyter.widget-view+json": {
       "model_id": "51b589ac4ef0404c92c987a0a8d072b3"
      }
     },
     "metadata": {},
     "output_type": "display_data"
    },
    {
     "data": {
      "application/vnd.jupyter.widget-view+json": {
       "model_id": "8a01b87ec4364ba4b4b16c66509cdcd8"
      }
     },
     "metadata": {},
     "output_type": "display_data"
    },
    {
     "name": "stdout",
     "output_type": "stream",
     "text": [
      "                            train     valid\n",
      "adversarial_loss         0.867087  0.798433\n",
      "code_adversarial_loss    0.673448  0.724299\n",
      "code_discriminator_loss  1.457860  1.609564\n",
      "discriminator_loss       1.195427  1.210827\n",
      "reconstruction_loss      5.139197  5.938258\n"
     ]
    },
    {
     "data": {
      "application/vnd.jupyter.widget-view+json": {
       "model_id": "27ab20f168e64a4dbf3becd1beaf7f79"
      }
     },
     "metadata": {},
     "output_type": "display_data"
    },
    {
     "data": {
      "application/vnd.jupyter.widget-view+json": {
       "model_id": "1e921641a7cf42d2b00be22eff079c58"
      }
     },
     "metadata": {},
     "output_type": "display_data"
    },
    {
     "name": "stdout",
     "output_type": "stream",
     "text": [
      "                            train     valid\n",
      "adversarial_loss         0.852793  0.791577\n",
      "code_adversarial_loss    0.675825  0.683418\n",
      "code_discriminator_loss  1.450810  1.935299\n",
      "discriminator_loss       1.192190  1.446636\n",
      "reconstruction_loss      5.067832  6.052054\n"
     ]
    },
    {
     "data": {
      "application/vnd.jupyter.widget-view+json": {
       "model_id": "e36a98c6852a4b7db5ce5a9fcfb275da"
      }
     },
     "metadata": {},
     "output_type": "display_data"
    },
    {
     "data": {
      "application/vnd.jupyter.widget-view+json": {
       "model_id": "5919e0902676460caee50d3f643aaea4"
      }
     },
     "metadata": {},
     "output_type": "display_data"
    },
    {
     "name": "stdout",
     "output_type": "stream",
     "text": [
      "                            train     valid\n",
      "adversarial_loss         0.876950  0.739879\n",
      "code_adversarial_loss    0.683329  0.638863\n",
      "code_discriminator_loss  1.434806  1.766525\n",
      "discriminator_loss       1.160123  1.498205\n",
      "reconstruction_loss      4.936408  6.243219\n"
     ]
    },
    {
     "data": {
      "application/vnd.jupyter.widget-view+json": {
       "model_id": "5f906121ea1f4e1b97a79eb0b5b6c8e6"
      }
     },
     "metadata": {},
     "output_type": "display_data"
    },
    {
     "data": {
      "application/vnd.jupyter.widget-view+json": {
       "model_id": "c9cbc39df58d4e768cae4f0ef7865b6f"
      }
     },
     "metadata": {},
     "output_type": "display_data"
    },
    {
     "name": "stdout",
     "output_type": "stream",
     "text": [
      "                            train     valid\n",
      "adversarial_loss         0.890333  0.751780\n",
      "code_adversarial_loss    0.685555  0.648049\n",
      "code_discriminator_loss  1.428625  1.478019\n",
      "discriminator_loss       1.160921  1.329123\n",
      "reconstruction_loss      4.947390  6.613348\n"
     ]
    },
    {
     "data": {
      "application/vnd.jupyter.widget-view+json": {
       "model_id": "9fff34859d7a4b31b2ce63ae03eb3b8a"
      }
     },
     "metadata": {},
     "output_type": "display_data"
    }
   ],
   "source": [
    "model.fit(\n",
    "    X_train, X_test,\n",
    "    log_fn = log_fn,\n",
    "    n_iter=(1,2), report_every=1,\n",
    "    n_batches=len(X_train)//10, n_epochs=20\n",
    ")"
   ]
  },
  {
   "cell_type": "code",
   "execution_count": null,
   "metadata": {},
   "outputs": [],
   "source": [
    "fig, ax = plt.subplots(1,1,figsize=(14,8))\n",
    "diagnostic = pd.concat([pd.DataFrame(d.stack(), columns=[i]).T for i,d in enumerate(diag)])\n",
    "cols = list('rgbcmy')\n",
    "colors = defaultdict(lambda: cols.pop())\n",
    "for c in diagnostic:\n",
    "    component, dataset = c\n",
    "    kw = {}\n",
    "    if dataset=='valid':\n",
    "        kw['label'] = component\n",
    "    else:\n",
    "        kw['ls'] = '--'\n",
    "    ax.plot(diagnostic[c].values, c=colors[component], **kw)\n",
    "ax.legend(bbox_to_anchor=(1, 0.7))"
   ]
  },
  {
   "cell_type": "code",
   "execution_count": null,
   "metadata": {},
   "outputs": [],
   "source": [
    "# samples\n",
    "z, x = model(16, mode='sample')\n",
    "fig, ax = plt.subplots(1,1,figsize=(16,4))\n",
    "ax.imshow(make_grid(x.data, range=(0,1))cpu().numpy().transpose(1,2,0), interpolation='nearest')"
   ]
  },
  {
   "cell_type": "code",
   "execution_count": null,
   "metadata": {},
   "outputs": [],
   "source": [
    "fig, ax = plt.subplots(1,1,figsize=(16,4))\n",
    "# training reconstructions\n",
    "x = cifar[train_idxs][:12]\n",
    "z, x_rec = model(x)\n",
    "ax.imshow(make_grid(\n",
    "    torch.cat((x, x_rec.data)), nrow=12, normalize=True\n",
    ").cpu().numpy().transpose(1,2,0), interpolation='nearest')"
   ]
  },
  {
   "cell_type": "code",
   "execution_count": null,
   "metadata": {},
   "outputs": [],
   "source": [
    "fig, ax = plt.subplots(1,1,figsize=(16,4))\n",
    "# test reconstructions\n",
    "x = cifar_test[test_idxs][:12]\n",
    "z, x_rec = model(x)\n",
    "ax.imshow(make_grid(\n",
    "    torch.cat((x, x_rec.data)), nrow=12, normalize=True\n",
    ").cpu().numpy().transpose(1,2,0), interpolation='nearest')"
   ]
  },
  {
   "cell_type": "code",
   "execution_count": null,
   "metadata": {
    "collapsed": true
   },
   "outputs": [],
   "source": []
  }
 ],
 "metadata": {
  "kernelspec": {
   "display_name": "Python 3",
   "language": "python",
   "name": "python3"
  },
  "language_info": {
   "codemirror_mode": {
    "name": "ipython",
    "version": 3
   },
   "file_extension": ".py",
   "mimetype": "text/x-python",
   "name": "python",
   "nbconvert_exporter": "python",
   "pygments_lexer": "ipython3",
   "version": "3.6.1"
  }
 },
 "nbformat": 4,
 "nbformat_minor": 2
}
