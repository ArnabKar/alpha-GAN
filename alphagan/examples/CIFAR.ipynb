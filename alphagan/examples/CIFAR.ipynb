{
 "cells": [
  {
   "cell_type": "code",
   "execution_count": 58,
   "metadata": {
    "collapsed": true
   },
   "outputs": [],
   "source": [
    "data_dir = '/home/victor/data-ssd'"
   ]
  },
  {
   "cell_type": "code",
   "execution_count": 59,
   "metadata": {},
   "outputs": [
    {
     "name": "stdout",
     "output_type": "stream",
     "text": [
      "The autoreload extension is already loaded. To reload it, use:\n",
      "  %reload_ext autoreload\n"
     ]
    }
   ],
   "source": [
    "import sys\n",
    "sys.path.append('../')\n",
    "\n",
    "%load_ext autoreload\n",
    "%autoreload 1\n",
    "%aimport alphagan"
   ]
  },
  {
   "cell_type": "code",
   "execution_count": 60,
   "metadata": {
    "collapsed": true
   },
   "outputs": [],
   "source": [
    "from collections import defaultdict\n",
    "\n",
    "import numpy as np\n",
    "import pandas as pd\n",
    "\n",
    "import torch\n",
    "from torch import nn\n",
    "from torch.nn import init, Parameter\n",
    "import torch.nn.functional as F\n",
    "from torch.autograd import Variable\n",
    "from torch.utils.data import DataLoader\n",
    "from torchvision import datasets, models, transforms\n",
    "from torchvision.models.resnet import BasicBlock\n",
    "from torchvision.utils import make_grid\n",
    "\n",
    "import matplotlib.pyplot as plt\n",
    "%matplotlib inline"
   ]
  },
  {
   "cell_type": "code",
   "execution_count": 61,
   "metadata": {},
   "outputs": [
    {
     "data": {
      "text/plain": [
       "torch.Size([50000, 3, 32, 32])"
      ]
     },
     "execution_count": 61,
     "metadata": {},
     "output_type": "execute_result"
    }
   ],
   "source": [
    "cifar = datasets.CIFAR100(\n",
    "    data_dir,\n",
    "    train=True,\n",
    "    transform=transforms.Compose([\n",
    "        transforms.ToTensor(),\n",
    "        transforms.Normalize(\n",
    "            mean= [ 0.5071, 0.4865, 0.4409 ],\n",
    "            std = [ 0.2673, 0.2564, 0.2762 ]\n",
    "        ),\n",
    "    ]),\n",
    "    target_transform=None,\n",
    "    download=False)\n",
    "cifar = torch.stack(list(zip(*cifar))[0])\n",
    "cifar.size()"
   ]
  },
  {
   "cell_type": "code",
   "execution_count": 62,
   "metadata": {},
   "outputs": [
    {
     "data": {
      "text/plain": [
       "torch.Size([10000, 3, 32, 32])"
      ]
     },
     "execution_count": 62,
     "metadata": {},
     "output_type": "execute_result"
    }
   ],
   "source": [
    "cifar_test = datasets.CIFAR100(\n",
    "    data_dir,\n",
    "    train=False,\n",
    "    transform=transforms.Compose([\n",
    "        transforms.ToTensor(),\n",
    "        transforms.Normalize(\n",
    "            mean= [ 0.5071, 0.4865, 0.4409 ],\n",
    "            std = [ 0.2673, 0.2564, 0.2762 ]\n",
    "        ),\n",
    "    ]),\n",
    "    target_transform=None,\n",
    "    download=False)\n",
    "cifar_test = torch.stack(list(zip(*cifar_test))[0])\n",
    "cifar_test.size()                          "
   ]
  },
  {
   "cell_type": "code",
   "execution_count": 63,
   "metadata": {
    "collapsed": true
   },
   "outputs": [],
   "source": [
    "batch_size = 64"
   ]
  },
  {
   "cell_type": "code",
   "execution_count": 64,
   "metadata": {
    "collapsed": true
   },
   "outputs": [],
   "source": [
    "n_train, n_test = len(cifar)//1, 128\n",
    "\n",
    "train_idxs = torch.LongTensor(np.random.permutation(len(cifar))[:n_train])\n",
    "X_train = DataLoader(cifar[train_idxs], batch_size=batch_size, shuffle=True)\n",
    "test_idxs = torch.LongTensor(np.random.permutation(len(cifar_test))[:n_test])\n",
    "X_test = DataLoader(cifar_test[test_idxs], batch_size=batch_size, shuffle=False)"
   ]
  },
  {
   "cell_type": "code",
   "execution_count": 81,
   "metadata": {
    "collapsed": true
   },
   "outputs": [],
   "source": [
    "# I think broadcasting should make these unnecessary in the next pytorch release\n",
    "class ChannelsToLinear(nn.Linear):\n",
    "    def forward(self, x):\n",
    "        return super().forward(x.squeeze(-1).squeeze(-1))\n",
    "class LinearToChannels(nn.Linear):\n",
    "    def forward(self, x):\n",
    "        return super().forward(x).unsqueeze(-1).unsqueeze(-1)\n",
    "\n",
    "# versatile ResNet block which can be upsample or downsampling\n",
    "class ResBlock(nn.Module):\n",
    "    def __init__(self, c,\n",
    "                 activation=nn.LeakyReLU, norm=nn.BatchNorm2d,\n",
    "                 upsample=1, downsample=1):\n",
    "        super().__init__()\n",
    "        self.a1 = activation()\n",
    "        self.a2 = activation()\n",
    "        self.norm1 = norm(c)\n",
    "        self.norm2 = norm(c)\n",
    "        \n",
    "        self.resample=None\n",
    "        assert upsample==1 or downsample==1\n",
    "        if upsample>1:\n",
    "            self.conv1 = nn.ConvTranspose2d(c, c, upsample, upsample)\n",
    "            self.resample = nn.UpsamplingNearest2d(scale_factor=upsample)\n",
    "        else:\n",
    "            self.conv1 = nn.Conv2d(c, c, 3, downsample, 1)\n",
    "        if downsample>1:\n",
    "            self.resample = nn.AvgPool2d(downsample)\n",
    "            \n",
    "        self.conv2 = nn.Conv2d(c, c, 3, 1, 1)\n",
    "        \n",
    "        init.xavier_uniform(self.conv1.weight, 2)\n",
    "        init.xavier_uniform(self.conv2.weight, 2)\n",
    "        \n",
    "    def forward(self, x):\n",
    "        \n",
    "        y = self.conv1(x)\n",
    "        y = self.norm1(y)\n",
    "        y = self.a1(y)\n",
    "        y = self.conv2(y)\n",
    "        y = self.norm2(y)\n",
    "        \n",
    "        if self.resample:\n",
    "            x = self.resample(x)\n",
    "        \n",
    "        return self.a2(x+y)"
   ]
  },
  {
   "cell_type": "code",
   "execution_count": 82,
   "metadata": {
    "collapsed": true
   },
   "outputs": [],
   "source": [
    "latent_dim = 128"
   ]
  },
  {
   "cell_type": "code",
   "execution_count": 96,
   "metadata": {},
   "outputs": [],
   "source": [
    "# k = 3\n",
    "# a = lambda: nn.LeakyReLU(.2)\n",
    "# pool = nn.AvgPool2d\n",
    "# norm = nn.BatchNorm2d\n",
    "# E = nn.Sequential(\n",
    "#     nn.Conv2d(  3,  64, k, 1, k//2), pool(2), norm(64), a(),\n",
    "#     nn.Conv2d( 64, 128, k, 1, k//2), pool(2), norm(128), a(),\n",
    "#     nn.Conv2d(128, 256, k, 1, k//2), pool(2), norm(256), a(),\n",
    "#     nn.Conv2d(256, 512, k, 1, k//2), pool(4), norm(512), a(),\n",
    "#     ChannelsToLinear(512, latent_dim)\n",
    "# )\n",
    "# for i,layer in enumerate(E):\n",
    "#     if i%4==0:\n",
    "#         init.xavier_uniform(layer.weight, 2)\n",
    "h = 128\n",
    "pool = nn.AvgPool2d\n",
    "norm = nn.BatchNorm2d\n",
    "a = lambda: nn.LeakyReLU(.2)\n",
    "E = nn.Sequential(\n",
    "    nn.Conv2d(3,h,5,2,2), norm(h), a(),\n",
    "    ResBlock(h, downsample=2),\n",
    "    ResBlock(h),\n",
    "    ResBlock(h),\n",
    "    a(), pool(8),\n",
    "    ChannelsToLinear(h, latent_dim)\n",
    ")\n",
    "t = Variable(torch.randn(batch_size,3,32,32))\n",
    "assert E(t).size() == (batch_size,latent_dim)"
   ]
  },
  {
   "cell_type": "code",
   "execution_count": 84,
   "metadata": {},
   "outputs": [],
   "source": [
    "# k=5\n",
    "# a = lambda: nn.LeakyReLU(.005)\n",
    "# norm = nn.BatchNorm2d\n",
    "# h = 64\n",
    "# G = nn.Sequential(\n",
    "#     LinearToChannels(latent_dim, 512), norm(512), a(),\n",
    "#     nn.ConvTranspose2d(512, 256, 4, 1), norm(256), a(),\n",
    "#     nn.ConvTranspose2d(256, 128, 2, 2), norm(128), a(),\n",
    "#     nn.Conv2d( 128, h, k, 1, k//2), norm(h), a(),\n",
    "#     nn.ConvTranspose2d(  h, h, 2, 2), norm(h), a(),\n",
    "#     nn.ConvTranspose2d(  h, h, 2, 2), norm(h), a(),\n",
    "#     nn.Conv2d( h, 3, k, 1, k//2), #nn.Tanh()\n",
    "# )\n",
    "# for i,layer in enumerate(G):\n",
    "#     if i%3==0:\n",
    "#         init.xavier_uniform(layer.weight, 2)\n",
    "\n",
    "h = 128\n",
    "pool = nn.AvgPool2d\n",
    "norm = nn.BatchNorm2d\n",
    "a = lambda: nn.LeakyReLU(.2)\n",
    "G = nn.Sequential(\n",
    "    LinearToChannels(latent_dim, h), norm(h), a(),\n",
    "    nn.ConvTranspose2d(h, h, 4, 1), norm(h), a(),\n",
    "    ResBlock(h, upsample=2),\n",
    "    ResBlock(h, upsample=2),\n",
    "    ResBlock(h, upsample=2),\n",
    "    nn.Conv2d(h, 3, 1, 1), nn.Tanh()\n",
    ")\n",
    "t = Variable(torch.randn(batch_size,latent_dim))\n",
    "assert G(t).size() == (batch_size,3,32,32)"
   ]
  },
  {
   "cell_type": "code",
   "execution_count": 97,
   "metadata": {
    "collapsed": true
   },
   "outputs": [],
   "source": [
    "# k = 3\n",
    "# a = lambda: nn.LeakyReLU(.2)\n",
    "# pool = nn.AvgPool2d\n",
    "# norm = nn.BatchNorm2d\n",
    "# D = nn.Sequential(\n",
    "#     nn.Conv2d(  3,  64, k, 1, k//2), pool(2), norm(64), a(),\n",
    "#     nn.Conv2d( 64, 128, k, 1, k//2), pool(2), norm(128), a(),\n",
    "#     nn.Conv2d(128, 256, k, 1, k//2), pool(2), norm(256), a(),\n",
    "#     nn.Conv2d(256, 512, k, 1, k//2), pool(4), norm(512), a(),\n",
    "#     ChannelsToLinear(512, 1), nn.Sigmoid()\n",
    "# )\n",
    "# for i,layer in enumerate(D):\n",
    "#     if i%4==0:\n",
    "#         init.xavier_uniform(layer.weight, 2)\n",
    "        \n",
    "h = 128\n",
    "pool = nn.AvgPool2d\n",
    "norm = nn.BatchNorm2d\n",
    "a = lambda: nn.LeakyReLU(.2)\n",
    "D = nn.Sequential(\n",
    "    nn.Conv2d(3,h,5,2,2), norm(h), a(),\n",
    "    ResBlock(h, downsample=2),\n",
    "    ResBlock(h),\n",
    "    ResBlock(h),\n",
    "    a(), pool(8),\n",
    "    ChannelsToLinear(h, 1), nn.Sigmoid()\n",
    ")\n",
    "    \n",
    "t = Variable(torch.randn(batch_size,3,32,32))\n",
    "assert D(t).size() == (batch_size,1)"
   ]
  },
  {
   "cell_type": "code",
   "execution_count": 86,
   "metadata": {},
   "outputs": [],
   "source": [
    "h = 128\n",
    "a = lambda: nn.LeakyReLU(.2)\n",
    "norm = nn.BatchNorm1d\n",
    "C = nn.Sequential(\n",
    "    nn.Linear(latent_dim, h), norm(h), a(),\n",
    "    nn.Linear(h, h), norm(h), a(),\n",
    "    nn.Linear(h, h), norm(h), a(),\n",
    "    nn.Linear(h, 1), nn.Sigmoid(),\n",
    ")\n",
    "\n",
    "for i,layer in enumerate(C):\n",
    "    if i%3==0:\n",
    "        init.xavier_uniform(layer.weight, 2)\n",
    "\n",
    "t = Variable(torch.randn(batch_size,latent_dim))\n",
    "assert C(t).size() == (batch_size,1)"
   ]
  },
  {
   "cell_type": "code",
   "execution_count": 98,
   "metadata": {
    "collapsed": true
   },
   "outputs": [],
   "source": [
    "model = alphagan.AlphaGAN(E, G, D, C, latent_dim, lambd=10)"
   ]
  },
  {
   "cell_type": "code",
   "execution_count": 99,
   "metadata": {
    "collapsed": true
   },
   "outputs": [],
   "source": [
    "diag = []\n",
    "def log_fn(d):\n",
    "    d = pd.DataFrame(d)\n",
    "    diag.append(d)\n",
    "    print(d)"
   ]
  },
  {
   "cell_type": "code",
   "execution_count": null,
   "metadata": {},
   "outputs": [
    {
     "data": {
      "application/vnd.jupyter.widget-view+json": {
       "model_id": "e58353283b7b426792b560003436ca94"
      }
     },
     "metadata": {},
     "output_type": "display_data"
    },
    {
     "data": {
      "application/vnd.jupyter.widget-view+json": {
       "model_id": "964dbd3df2424f42add2c12754689c09"
      }
     },
     "metadata": {},
     "output_type": "display_data"
    },
    {
     "data": {
      "application/vnd.jupyter.widget-view+json": {
       "model_id": "52cb98f6bb8a4792a703e85045572a9b"
      }
     },
     "metadata": {},
     "output_type": "display_data"
    },
    {
     "data": {
      "application/vnd.jupyter.widget-view+json": {
       "model_id": "44ae179d2ad04d10b12ea0467fa4c291"
      }
     },
     "metadata": {},
     "output_type": "display_data"
    }
   ],
   "source": [
    "model.fit(\n",
    "    X_train, X_test,\n",
    "    log_fn = log_fn,\n",
    "    disc_iters=16, ae_iters=16,\n",
    "    n_epochs=40\n",
    ")"
   ]
  },
  {
   "cell_type": "code",
   "execution_count": null,
   "metadata": {
    "collapsed": true
   },
   "outputs": [],
   "source": [
    "fig, ax = plt.subplots(1,1,figsize=(14,8))\n",
    "diagnostic = pd.concat([pd.DataFrame(d.stack(), columns=[i]).T for i,d in enumerate(diag)])\n",
    "cols = list('rgbcmy')\n",
    "colors = defaultdict(lambda: cols.pop())\n",
    "for c in diagnostic:\n",
    "    component, dataset = c\n",
    "    kw = {}\n",
    "    if dataset=='valid':\n",
    "        kw['label'] = component\n",
    "    else:\n",
    "        kw['ls'] = '--'\n",
    "    ax.plot(diagnostic[c].values, c=colors[component], **kw)\n",
    "ax.legend(bbox_to_anchor=(1, 0.7))"
   ]
  },
  {
   "cell_type": "code",
   "execution_count": null,
   "metadata": {
    "collapsed": true
   },
   "outputs": [],
   "source": [
    "# samples\n",
    "z, x = model(16, mode='sample')\n",
    "fig, ax = plt.subplots(1,1,figsize=(16,4))\n",
    "ax.imshow(make_grid(x.data, normalize=True).numpy().transpose(1,2,0), interpolation='nearest')\n",
    "# ax.imshow(make_grid(x.data, range=(0,1)).numpy().transpose(1,2,0), interpolation='nearest')"
   ]
  },
  {
   "cell_type": "code",
   "execution_count": null,
   "metadata": {
    "collapsed": true
   },
   "outputs": [],
   "source": [
    "fig, ax = plt.subplots(1,1,figsize=(16,4))\n",
    "# training reconstructions\n",
    "x = cifar[train_idxs][:12]\n",
    "z, x_rec = model(x)\n",
    "ax.imshow(make_grid(\n",
    "    torch.cat((x, x_rec.data)), nrow=12, normalize=True\n",
    ").numpy().transpose(1,2,0), interpolation='nearest')"
   ]
  },
  {
   "cell_type": "code",
   "execution_count": null,
   "metadata": {
    "collapsed": true
   },
   "outputs": [],
   "source": [
    "fig, ax = plt.subplots(1,1,figsize=(16,4))\n",
    "# test reconstructions\n",
    "x = cifar_test[test_idxs][:12]\n",
    "z, x_rec = model(x)\n",
    "ax.imshow(make_grid(\n",
    "    torch.cat((x, x_rec.data)), nrow=12, normalize=True\n",
    ").numpy().transpose(1,2,0), interpolation='nearest')"
   ]
  },
  {
   "cell_type": "code",
   "execution_count": null,
   "metadata": {
    "collapsed": true
   },
   "outputs": [],
   "source": []
  }
 ],
 "metadata": {
  "kernelspec": {
   "display_name": "Python 3",
   "language": "python",
   "name": "python3"
  },
  "language_info": {
   "codemirror_mode": {
    "name": "ipython",
    "version": 3
   },
   "file_extension": ".py",
   "mimetype": "text/x-python",
   "name": "python",
   "nbconvert_exporter": "python",
   "pygments_lexer": "ipython3",
   "version": "3.6.1"
  }
 },
 "nbformat": 4,
 "nbformat_minor": 2
}
