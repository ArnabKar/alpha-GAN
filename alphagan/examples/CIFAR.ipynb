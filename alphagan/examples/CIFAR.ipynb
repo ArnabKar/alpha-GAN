{
 "cells": [
  {
   "cell_type": "code",
   "execution_count": 1,
   "metadata": {
    "collapsed": true
   },
   "outputs": [],
   "source": [
    "data_dir = '/home/victor/data-ssd'"
   ]
  },
  {
   "cell_type": "code",
   "execution_count": 2,
   "metadata": {
    "collapsed": true
   },
   "outputs": [],
   "source": [
    "import sys\n",
    "sys.path.append('../')\n",
    "\n",
    "%load_ext autoreload\n",
    "%autoreload 1\n",
    "%aimport alphagan"
   ]
  },
  {
   "cell_type": "code",
   "execution_count": 47,
   "metadata": {},
   "outputs": [],
   "source": [
    "import numpy as np\n",
    "import pandas as pd\n",
    "\n",
    "import torch\n",
    "from torch import nn\n",
    "from torch.nn import init\n",
    "import torch.nn.functional as F\n",
    "from torch.autograd import Variable\n",
    "from torch.utils.data import DataLoader\n",
    "from torchvision import datasets, models, transforms\n",
    "from torchvision.utils import make_grid\n",
    "\n",
    "import matplotlib.pyplot as plt\n",
    "%matplotlib inline"
   ]
  },
  {
   "cell_type": "code",
   "execution_count": 45,
   "metadata": {},
   "outputs": [
    {
     "data": {
      "text/plain": [
       "torch.Size([50000, 3, 32, 32])"
      ]
     },
     "execution_count": 45,
     "metadata": {},
     "output_type": "execute_result"
    }
   ],
   "source": [
    "cifar = datasets.CIFAR100(\n",
    "    data_dir,\n",
    "    train=True,\n",
    "    transform=transforms.Compose([\n",
    "        transforms.ToTensor(),\n",
    "        transforms.Normalize(\n",
    "            mean= [ 0.5071, 0.4865, 0.4409 ],\n",
    "            std = [ 0.2673, 0.2564, 0.2762 ]\n",
    "        ),\n",
    "    ]),\n",
    "    target_transform=None,\n",
    "    download=False)\n",
    "cifar = torch.stack(list(zip(*cifar))[0])\n",
    "cifar.size()"
   ]
  },
  {
   "cell_type": "code",
   "execution_count": 5,
   "metadata": {},
   "outputs": [
    {
     "data": {
      "text/plain": [
       "torch.Size([10000, 3, 32, 32])"
      ]
     },
     "execution_count": 5,
     "metadata": {},
     "output_type": "execute_result"
    }
   ],
   "source": [
    "cifar_test = datasets.CIFAR100(\n",
    "    data_dir,\n",
    "    train=False,\n",
    "    transform=transforms.Compose([\n",
    "        transforms.ToTensor(),\n",
    "        transforms.Normalize(\n",
    "            mean= [ 0.5071, 0.4865, 0.4409 ],\n",
    "            std = [ 0.2673, 0.2564, 0.2762 ]\n",
    "        ),\n",
    "    ]),\n",
    "    target_transform=None,\n",
    "    download=False)\n",
    "cifar_test = torch.stack(list(zip(*cifar_test))[0])\n",
    "cifar_test.size()                          "
   ]
  },
  {
   "cell_type": "code",
   "execution_count": 90,
   "metadata": {},
   "outputs": [],
   "source": [
    "batch_size = 128\n",
    "n_train, n_test = len(cifar)//1, 128#1024, batch_size\n",
    "\n",
    "train_idxs = torch.LongTensor(np.random.permutation(len(cifar))[:n_train])\n",
    "X_train = DataLoader(cifar[train_idxs], batch_size=batch_size, shuffle=True)\n",
    "test_idxs = torch.LongTensor(np.random.permutation(len(cifar_test))[:n_test])\n",
    "X_test = DataLoader(cifar_test[test_idxs], batch_size=batch_size, shuffle=False)"
   ]
  },
  {
   "cell_type": "code",
   "execution_count": 91,
   "metadata": {
    "collapsed": true
   },
   "outputs": [],
   "source": [
    "class ChannelsToLinear(nn.Linear):\n",
    "    def forward(self, x):\n",
    "        return super().forward(x.squeeze(-1).squeeze(-1))\n",
    "class LinearToChannels(nn.Linear):\n",
    "    def forward(self, x):\n",
    "        return super().forward(x).unsqueeze(-1).unsqueeze(-1)      "
   ]
  },
  {
   "cell_type": "code",
   "execution_count": 92,
   "metadata": {
    "collapsed": true
   },
   "outputs": [],
   "source": [
    "latent_dim = 32"
   ]
  },
  {
   "cell_type": "code",
   "execution_count": 93,
   "metadata": {
    "collapsed": true
   },
   "outputs": [],
   "source": [
    "k = 3\n",
    "encoder = nn.Sequential(\n",
    "    nn.Conv2d(  3,  16, k, 1, k//2), nn.AvgPool2d(2), nn.ReLU(),\n",
    "    nn.Conv2d( 16,  32, k, 1, k//2), nn.AvgPool2d(2), nn.ReLU(),\n",
    "    nn.Conv2d( 32,  64, k, 1, k//2), nn.AvgPool2d(2), nn.ReLU(),\n",
    "    nn.Conv2d( 64, 512, k, 1, k//2), nn.AvgPool2d(4), nn.ReLU(),\n",
    "    ChannelsToLinear(512, latent_dim)\n",
    ")\n",
    "for i,layer in enumerate(encoder):\n",
    "    if i%3==0:\n",
    "        init.xavier_uniform(layer.weight, 2)"
   ]
  },
  {
   "cell_type": "code",
   "execution_count": 94,
   "metadata": {
    "collapsed": true
   },
   "outputs": [],
   "source": [
    "k=5\n",
    "generator = nn.Sequential(\n",
    "    LinearToChannels(latent_dim, 512), nn.ReLU(),\n",
    "    nn.ConvTranspose2d(512, 64, 4, 1), nn.ReLU(),\n",
    "    nn.ConvTranspose2d(  64, 32, 2, 2), nn.ReLU(),\n",
    "    nn.Conv2d( 32, 32, k, 1, k//2), nn.ReLU(),\n",
    "    nn.ConvTranspose2d(  32, 16, 2, 2), nn.ReLU(),\n",
    "    nn.ConvTranspose2d(  16,  8, 2, 2), nn.ReLU(),\n",
    "    nn.Conv2d(  8,  3, k, 1, k//2),\n",
    ")\n",
    "for i,layer in enumerate(generator):\n",
    "    if i%2==0:\n",
    "        init.xavier_uniform(layer.weight, 2)"
   ]
  },
  {
   "cell_type": "code",
   "execution_count": 95,
   "metadata": {
    "collapsed": true
   },
   "outputs": [],
   "source": [
    "k = 3\n",
    "D = nn.Sequential(\n",
    "    nn.Conv2d(  3,  16, k, 1, k//2), nn.AvgPool2d(2), nn.ReLU(),\n",
    "    nn.Conv2d( 16,  32, k, 1, k//2), nn.AvgPool2d(2), nn.ReLU(),\n",
    "    nn.Conv2d( 32,  64, k, 1, k//2), nn.AvgPool2d(2), nn.ReLU(),\n",
    "    nn.Conv2d( 64, 512, k, 1, k//2), nn.AvgPool2d(4), nn.ReLU(),\n",
    "    ChannelsToLinear(512, 1), nn.Sigmoid()\n",
    ")\n",
    "for i,layer in enumerate(D):\n",
    "    if i%3==0:\n",
    "        init.xavier_uniform(layer.weight, 2)"
   ]
  },
  {
   "cell_type": "code",
   "execution_count": 96,
   "metadata": {
    "collapsed": true
   },
   "outputs": [],
   "source": [
    "C_h = 512\n",
    "C = nn.Sequential(\n",
    "    nn.Linear(latent_dim, C_h), nn.ReLU(),\n",
    "    nn.Linear(C_h, C_h//2), nn.ReLU(),\n",
    "    nn.Linear(C_h//2, 1), nn.Sigmoid(),\n",
    ")"
   ]
  },
  {
   "cell_type": "code",
   "execution_count": 97,
   "metadata": {
    "collapsed": true
   },
   "outputs": [],
   "source": [
    "assert encoder(Variable(torch.randn(batch_size,3,32,32))).size() == (batch_size,latent_dim)\n",
    "assert generator(Variable(torch.randn(batch_size,latent_dim))).size() == (batch_size,3,32,32)\n",
    "assert D(Variable(torch.randn(batch_size,3,32,32))).size() == (batch_size,1)\n",
    "assert C(Variable(torch.randn(batch_size,latent_dim))).size() == (batch_size,1)"
   ]
  },
  {
   "cell_type": "code",
   "execution_count": null,
   "metadata": {
    "collapsed": true
   },
   "outputs": [],
   "source": [
    "model = alphagan.AlphaGAN(encoder, generator, D, C, latent_dim, lambd=10)"
   ]
  },
  {
   "cell_type": "code",
   "execution_count": null,
   "metadata": {},
   "outputs": [
    {
     "data": {
      "application/vnd.jupyter.widget-view+json": {
       "model_id": "7b080150262b4feb94d8ab62748eed50"
      }
     },
     "metadata": {},
     "output_type": "display_data"
    },
    {
     "data": {
      "application/vnd.jupyter.widget-view+json": {
       "model_id": "d9c4748fa6ff429e9a8e38c4861a9e24"
      }
     },
     "metadata": {},
     "output_type": "display_data"
    },
    {
     "name": "stdout",
     "output_type": "stream",
     "text": [
      "\n"
     ]
    },
    {
     "data": {
      "application/vnd.jupyter.widget-view+json": {
       "model_id": "9c974c549c9e4230929a49ed2b8728c9"
      }
     },
     "metadata": {},
     "output_type": "display_data"
    }
   ],
   "source": [
    "diagnostic = []\n",
    "def log_fn(d):\n",
    "    d = pd.DataFrame(d)\n",
    "    diagnostic.append(d)\n",
    "    print(d)\n",
    "model.fit(\n",
    "    X_train, X_test,\n",
    "    log_fn = log_fn,\n",
    "    n_epochs=20\n",
    ")"
   ]
  },
  {
   "cell_type": "code",
   "execution_count": null,
   "metadata": {},
   "outputs": [],
   "source": [
    "# samples\n",
    "z, x = model(16, mode='sample')\n",
    "fig, ax = plt.subplots(1,1,figsize=(16,4))\n",
    "ax.imshow(make_grid(x.data, normalize=True).numpy().transpose(1,2,0), interpolation='nearest')\n",
    "# ax.imshow(make_grid(x.data, range=(0,1)).numpy().transpose(1,2,0), interpolation='nearest')"
   ]
  },
  {
   "cell_type": "code",
   "execution_count": null,
   "metadata": {},
   "outputs": [],
   "source": [
    "fig, ax = plt.subplots(1,1,figsize=(16,4))\n",
    "# training reconstructions\n",
    "x = cifar[train_idxs][:12]\n",
    "z, x_rec = model(x)\n",
    "ax.imshow(make_grid(\n",
    "    torch.cat((x, x_rec.data)), nrow=12, normalize=True\n",
    ").numpy().transpose(1,2,0), interpolation='nearest')"
   ]
  },
  {
   "cell_type": "code",
   "execution_count": null,
   "metadata": {},
   "outputs": [],
   "source": [
    "fig, ax = plt.subplots(1,1,figsize=(16,4))\n",
    "# test reconstructions\n",
    "x = cifar_test[test_idxs][:12]\n",
    "z, x_rec = model(x)\n",
    "ax.imshow(make_grid(\n",
    "    torch.cat((x, x_rec.data)), nrow=12, normalize=True\n",
    ").numpy().transpose(1,2,0), interpolation='nearest')"
   ]
  },
  {
   "cell_type": "code",
   "execution_count": null,
   "metadata": {
    "collapsed": true
   },
   "outputs": [],
   "source": []
  }
 ],
 "metadata": {
  "kernelspec": {
   "display_name": "Python 3",
   "language": "python",
   "name": "python3"
  },
  "language_info": {
   "codemirror_mode": {
    "name": "ipython",
    "version": 3
   },
   "file_extension": ".py",
   "mimetype": "text/x-python",
   "name": "python",
   "nbconvert_exporter": "python",
   "pygments_lexer": "ipython3",
   "version": "3.6.1"
  }
 },
 "nbformat": 4,
 "nbformat_minor": 2
}
