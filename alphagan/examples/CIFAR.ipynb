{
 "cells": [
  {
   "cell_type": "code",
   "execution_count": 1,
   "metadata": {
    "collapsed": true
   },
   "outputs": [],
   "source": [
    "data_dir = '/home/victor/data-ssd'"
   ]
  },
  {
   "cell_type": "code",
   "execution_count": 2,
   "metadata": {},
   "outputs": [],
   "source": [
    "import sys\n",
    "sys.path.append('../')\n",
    "\n",
    "%load_ext autoreload\n",
    "%autoreload 1\n",
    "%aimport alphagan"
   ]
  },
  {
   "cell_type": "code",
   "execution_count": 3,
   "metadata": {},
   "outputs": [],
   "source": [
    "import sys\n",
    "import numpy as np\n",
    "\n",
    "import torch\n",
    "from torch import nn\n",
    "import torch.nn.functional as F\n",
    "from torch.autograd import Variable\n",
    "from torch.utils.data import DataLoader\n",
    "from torchvision import datasets, models, transforms"
   ]
  },
  {
   "cell_type": "code",
   "execution_count": 4,
   "metadata": {
    "collapsed": true
   },
   "outputs": [],
   "source": [
    "class ChannelsToLinear(nn.Linear):\n",
    "    def forward(self, x):\n",
    "        return super().forward(x.squeeze(-1).squeeze(-1))\n",
    "class LinearToChannels(nn.Linear):\n",
    "    def forward(self, x):\n",
    "        return super().forward(x).unsqueeze(-1).unsqueeze(-1)      "
   ]
  },
  {
   "cell_type": "code",
   "execution_count": 5,
   "metadata": {
    "collapsed": true
   },
   "outputs": [],
   "source": [
    "latent_dim = 32"
   ]
  },
  {
   "cell_type": "code",
   "execution_count": 6,
   "metadata": {},
   "outputs": [],
   "source": [
    "k = 3\n",
    "encoder = nn.Sequential(\n",
    "    nn.Conv2d(  3,  16, k, 1, k//2), nn.AvgPool2d(2), nn.ReLU(),\n",
    "    nn.Conv2d( 16,  32, k, 1, k//2), nn.AvgPool2d(2), nn.ReLU(),\n",
    "    nn.Conv2d( 32,  64, k, 1, k//2), nn.AvgPool2d(2), nn.ReLU(),\n",
    "    nn.Conv2d( 64, 128, k, 1, k//2), nn.AvgPool2d(2), nn.ReLU(),\n",
    "    nn.Conv2d(128, 256, k, 1, k//2), nn.AvgPool2d(2),\n",
    "    ChannelsToLinear(256, latent_dim)\n",
    ")"
   ]
  },
  {
   "cell_type": "code",
   "execution_count": 9,
   "metadata": {},
   "outputs": [],
   "source": [
    "generator = nn.Sequential(\n",
    "    LinearToChannels(latent_dim, 1024), nn.ReLU(),\n",
    "    nn.ConvTranspose2d(1024, 64, 4, 1), nn.ReLU(),\n",
    "    nn.ConvTranspose2d(  64, 32, 2, 2), nn.ReLU(),\n",
    "    nn.ConvTranspose2d(  32, 16, 2, 2), nn.ReLU(),\n",
    "    nn.ConvTranspose2d(  16,  3, 2, 2), nn.Sigmoid(),\n",
    ")"
   ]
  },
  {
   "cell_type": "code",
   "execution_count": 10,
   "metadata": {
    "collapsed": true
   },
   "outputs": [],
   "source": [
    "k = 3\n",
    "D = nn.Sequential(\n",
    "    nn.Conv2d(  3,  16, k, 1, k//2), nn.AvgPool2d(2), nn.ReLU(),\n",
    "    nn.Conv2d( 16,  32, k, 1, k//2), nn.AvgPool2d(2), nn.ReLU(),\n",
    "    nn.Conv2d( 32,  64, k, 1, k//2), nn.AvgPool2d(2), nn.ReLU(),\n",
    "    nn.Conv2d( 64, 128, k, 1, k//2), nn.AvgPool2d(2), nn.ReLU(),\n",
    "    nn.Conv2d(128, 256, k, 1, k//2), nn.AvgPool2d(2),\n",
    "    ChannelsToLinear(256, 1), nn.Sigmoid()\n",
    ")"
   ]
  },
  {
   "cell_type": "code",
   "execution_count": 12,
   "metadata": {},
   "outputs": [],
   "source": [
    "C_h = 512\n",
    "C = nn.Sequential(\n",
    "    nn.Linear(latent_dim, C_h), nn.ReLU(),\n",
    "    nn.Linear(C_h, C_h), nn.ReLU(),\n",
    "    nn.Linear(C_h, 1), nn.Sigmoid(),\n",
    ")"
   ]
  },
  {
   "cell_type": "code",
   "execution_count": 23,
   "metadata": {
    "collapsed": true
   },
   "outputs": [],
   "source": [
    "batch_size = 128\n",
    "assert encoder(Variable(torch.randn(batch_size,3,32,32))).size() == (batch_size,latent_dim)\n",
    "assert generator(Variable(torch.randn(batch_size,latent_dim))).size() == (batch_size,3,32,32)\n",
    "assert D(Variable(torch.randn(batch_size,3,32,32))).size() == (batch_size,1)\n",
    "assert C(Variable(torch.randn(batch_size,latent_dim))).size() == (batch_size,1)"
   ]
  },
  {
   "cell_type": "code",
   "execution_count": 26,
   "metadata": {
    "collapsed": true
   },
   "outputs": [],
   "source": [
    "model = alphagan.AlphaGAN(encoder, generator, D, C, latent_dim)"
   ]
  },
  {
   "cell_type": "code",
   "execution_count": 14,
   "metadata": {},
   "outputs": [],
   "source": [
    "cifar = datasets.CIFAR100(\n",
    "    data_dir,\n",
    "    train=True,\n",
    "    transform=transforms.Compose([\n",
    "        transforms.ToTensor(),\n",
    "        transforms.Normalize(\n",
    "            mean= [ 0.5071, 0.4865, 0.4409 ],\n",
    "            std = [ 0.2673, 0.2564, 0.2762 ]\n",
    "        ),\n",
    "    ]),\n",
    "    target_transform=None,\n",
    "    download=False)\n",
    "cifar = torch.stack(list(zip(*cifar))[0])\n",
    "cifar.size()"
   ]
  },
  {
   "cell_type": "code",
   "execution_count": 27,
   "metadata": {},
   "outputs": [],
   "source": [
    "X = DataLoader(cifar[:512], batch_size=batch_size, shuffle=True)"
   ]
  },
  {
   "cell_type": "code",
   "execution_count": 28,
   "metadata": {},
   "outputs": [
    {
     "data": {
      "application/vnd.jupyter.widget-view+json": {
       "model_id": "3e7ec2287d184c4ea191808a4f09a8fc"
      }
     },
     "metadata": {},
     "output_type": "display_data"
    },
    {
     "data": {
      "application/vnd.jupyter.widget-view+json": {
       "model_id": "99cdefad288141d8aacb8c4f7ef9e0a3"
      }
     },
     "metadata": {},
     "output_type": "display_data"
    },
    {
     "data": {
      "application/vnd.jupyter.widget-view+json": {
       "model_id": "8a0db2feef3849aabfe5b2a97f45cd2d"
      }
     },
     "metadata": {},
     "output_type": "display_data"
    },
    {
     "data": {
      "application/vnd.jupyter.widget-view+json": {
       "model_id": "1c1d93af39b04cfba4606a20a7be99e8"
      }
     },
     "metadata": {},
     "output_type": "display_data"
    },
    {
     "data": {
      "application/vnd.jupyter.widget-view+json": {
       "model_id": "dfd98d22e026407ba6231355f671a626"
      }
     },
     "metadata": {},
     "output_type": "display_data"
    },
    {
     "name": "stdout",
     "output_type": "stream",
     "text": [
      "{'train_encoder_loss': nan, 'train_generator_loss': 42.84655, 'train_D_loss': 1.6198111e-06, 'train_C_loss': nan}\n",
      "\n"
     ]
    }
   ],
   "source": [
    "model.fit(\n",
    "    X,\n",
    "    log_fn = lambda x:print(x),\n",
    "    n_epochs=1\n",
    ")"
   ]
  },
  {
   "cell_type": "code",
   "execution_count": null,
   "metadata": {
    "collapsed": true
   },
   "outputs": [],
   "source": []
  }
 ],
 "metadata": {
  "kernelspec": {
   "display_name": "Python 3",
   "language": "python",
   "name": "python3"
  },
  "language_info": {
   "codemirror_mode": {
    "name": "ipython",
    "version": 3
   },
   "file_extension": ".py",
   "mimetype": "text/x-python",
   "name": "python",
   "nbconvert_exporter": "python",
   "pygments_lexer": "ipython3",
   "version": "3.6.1"
  }
 },
 "nbformat": 4,
 "nbformat_minor": 2
}
