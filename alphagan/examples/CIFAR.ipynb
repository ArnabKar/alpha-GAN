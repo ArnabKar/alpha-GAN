{
 "cells": [
  {
   "cell_type": "code",
   "execution_count": 1,
   "metadata": {
    "collapsed": true
   },
   "outputs": [],
   "source": [
    "use_gpu = True\n",
    "data_dir = '/home/victor/data'"
   ]
  },
  {
   "cell_type": "code",
   "execution_count": 2,
   "metadata": {},
   "outputs": [],
   "source": [
    "import sys\n",
    "sys.path.append('../')\n",
    "\n",
    "%load_ext autoreload\n",
    "%autoreload 1\n",
    "%aimport alphagan"
   ]
  },
  {
   "cell_type": "code",
   "execution_count": 3,
   "metadata": {},
   "outputs": [],
   "source": [
    "from collections import defaultdict\n",
    "from psutil import cpu_count\n",
    "\n",
    "import numpy as np\n",
    "import pandas as pd\n",
    "\n",
    "import torch\n",
    "from torch import nn\n",
    "from torch.nn import init, Parameter\n",
    "import torch.nn.functional as F\n",
    "from torch.autograd import Variable\n",
    "from torch.utils.data import DataLoader\n",
    "from torchvision import datasets, models, transforms\n",
    "from torchvision.utils import make_grid\n",
    "\n",
    "import matplotlib.pyplot as plt\n",
    "%matplotlib inline"
   ]
  },
  {
   "cell_type": "code",
   "execution_count": 4,
   "metadata": {},
   "outputs": [
    {
     "data": {
      "text/plain": [
       "torch.Size([50000, 3, 32, 32])"
      ]
     },
     "execution_count": 4,
     "metadata": {},
     "output_type": "execute_result"
    }
   ],
   "source": [
    "cifar = datasets.CIFAR100(\n",
    "    data_dir,\n",
    "    train=True,\n",
    "    transform=transforms.Compose([\n",
    "        transforms.ToTensor()\n",
    "    ]),\n",
    "    target_transform=None,\n",
    "    download=False)\n",
    "cifar = torch.stack(list(zip(*cifar))[0])\n",
    "cifar.size()"
   ]
  },
  {
   "cell_type": "code",
   "execution_count": 5,
   "metadata": {},
   "outputs": [
    {
     "data": {
      "text/plain": [
       "torch.Size([10000, 3, 32, 32])"
      ]
     },
     "execution_count": 5,
     "metadata": {},
     "output_type": "execute_result"
    }
   ],
   "source": [
    "cifar_test = datasets.CIFAR100(\n",
    "    data_dir,\n",
    "    train=False,\n",
    "    transform=transforms.Compose([\n",
    "        transforms.ToTensor()\n",
    "    ]),\n",
    "    target_transform=None,\n",
    "    download=False)\n",
    "cifar_test = torch.stack(list(zip(*cifar_test))[0])\n",
    "cifar_test.size()                          "
   ]
  },
  {
   "cell_type": "code",
   "execution_count": 6,
   "metadata": {
    "collapsed": true
   },
   "outputs": [],
   "source": [
    "batch_size = 64"
   ]
  },
  {
   "cell_type": "code",
   "execution_count": 7,
   "metadata": {},
   "outputs": [],
   "source": [
    "n_train, n_test = len(cifar)//1, batch_size*2\n",
    "\n",
    "num_workers = cpu_count() if use_gpu else 0\n",
    "\n",
    "train_idxs = torch.LongTensor(np.random.permutation(len(cifar))[:n_train])\n",
    "X_train = DataLoader(cifar[train_idxs], batch_size=batch_size, shuffle=True,\n",
    "                     num_workers=num_workers, pin_memory=use_gpu)\n",
    "test_idxs = torch.LongTensor(np.random.permutation(len(cifar_test))[:n_test])\n",
    "X_test = DataLoader(cifar_test[test_idxs], batch_size=batch_size, shuffle=False,\n",
    "                   num_workers=num_workers, pin_memory=use_gpu)"
   ]
  },
  {
   "cell_type": "code",
   "execution_count": 8,
   "metadata": {
    "collapsed": true
   },
   "outputs": [],
   "source": [
    "# I think broadcasting should make these unnecessary in the next pytorch release\n",
    "class ChannelsToLinear(nn.Linear):\n",
    "    def forward(self, x):\n",
    "        return super().forward(x.squeeze(-1).squeeze(-1))\n",
    "class LinearToChannels(nn.Linear):\n",
    "    def forward(self, x):\n",
    "        return super().forward(x).unsqueeze(-1).unsqueeze(-1)\n",
    "\n",
    "# versatile ResNet block which can be upsampling or downsampling\n",
    "class ResBlock(nn.Module):\n",
    "    def __init__(self, c,\n",
    "                 activation=nn.LeakyReLU, norm=nn.BatchNorm2d,\n",
    "                 upsample=1, downsample=1):\n",
    "        super().__init__()\n",
    "        self.a1 = activation()\n",
    "        self.a2 = activation()\n",
    "        self.norm1 = norm(c)\n",
    "        self.norm2 = norm(c)\n",
    "        \n",
    "        self.resample=None\n",
    "        assert upsample==1 or downsample==1\n",
    "        if upsample>1:\n",
    "            self.conv1 = nn.ConvTranspose2d(c, c, upsample, upsample)\n",
    "            self.resample = nn.UpsamplingNearest2d(scale_factor=upsample)\n",
    "        else:\n",
    "            self.conv1 = nn.Conv2d(c, c, 3, downsample, 1)\n",
    "        if downsample>1:\n",
    "            self.resample = nn.AvgPool2d(downsample)\n",
    "            \n",
    "        self.conv2 = nn.Conv2d(c, c, 3, 1, 1)\n",
    "        \n",
    "        init.xavier_uniform(self.conv1.weight, 2)\n",
    "        init.xavier_uniform(self.conv2.weight, 2)\n",
    "        \n",
    "    def forward(self, x):\n",
    "        \n",
    "        y = self.conv1(x)\n",
    "        y = self.norm1(y)\n",
    "        y = self.a1(y)\n",
    "        y = self.conv2(y)\n",
    "        y = self.norm2(y)\n",
    "        \n",
    "        if self.resample:\n",
    "            x = self.resample(x)\n",
    "        \n",
    "        return self.a2(x+y)"
   ]
  },
  {
   "cell_type": "code",
   "execution_count": 9,
   "metadata": {
    "collapsed": true
   },
   "outputs": [],
   "source": [
    "latent_dim = 128"
   ]
  },
  {
   "cell_type": "code",
   "execution_count": 10,
   "metadata": {},
   "outputs": [],
   "source": [
    "h = 128\n",
    "pool = nn.AvgPool2d\n",
    "norm = nn.BatchNorm2d\n",
    "a = lambda: nn.LeakyReLU(.2)\n",
    "E = nn.Sequential(\n",
    "    nn.Conv2d(3,h,3,2,1), norm(h), a(),\n",
    "    ResBlock(h, activation=a, norm=norm, downsample=2),\n",
    "    ResBlock(h, activation=a, norm=norm),\n",
    "    ResBlock(h, activation=a, norm=norm),\n",
    "    a(), pool(8),\n",
    "    ChannelsToLinear(h, latent_dim)\n",
    ")\n",
    "\n",
    "for layer in (E[0], E[8]):\n",
    "    init.xavier_uniform(layer.weight, 2)\n",
    "\n",
    "t = Variable(torch.randn(batch_size,3,32,32))\n",
    "assert E(t).size() == (batch_size,latent_dim)"
   ]
  },
  {
   "cell_type": "code",
   "execution_count": 11,
   "metadata": {},
   "outputs": [
    {
     "name": "stderr",
     "output_type": "stream",
     "text": [
      "/home/victor/.conda/envs/torch/lib/python3.6/site-packages/torch/nn/modules/upsampling.py:135: UserWarning: nn.UpsamplingNearest2d is deprecated. Use nn.Upsample instead.\n",
      "  warnings.warn(\"nn.UpsamplingNearest2d is deprecated. Use nn.Upsample instead.\")\n"
     ]
    }
   ],
   "source": [
    "h = 128\n",
    "pool = nn.AvgPool2d\n",
    "norm = nn.BatchNorm2d\n",
    "a = lambda: nn.LeakyReLU(.2)\n",
    "G = nn.Sequential(\n",
    "    LinearToChannels(latent_dim, h), norm(h), a(),\n",
    "    nn.ConvTranspose2d(h, h, 4, 1), norm(h), a(),\n",
    "    ResBlock(h, activation=a, norm=norm, upsample=2),\n",
    "    ResBlock(h, activation=a, norm=norm, upsample=2),\n",
    "    ResBlock(h, activation=a, norm=norm, upsample=2),\n",
    "    nn.Conv2d(h, 3, 1, 1), nn.Sigmoid()\n",
    ")\n",
    "\n",
    "for layer in (G[0], G[3], G[9]):\n",
    "    init.xavier_uniform(layer.weight, 2)\n",
    "\n",
    "t = Variable(torch.randn(batch_size,latent_dim))\n",
    "assert G(t).size() == (batch_size,3,32,32)"
   ]
  },
  {
   "cell_type": "code",
   "execution_count": 12,
   "metadata": {
    "collapsed": true
   },
   "outputs": [],
   "source": [
    "h = 128\n",
    "pool = nn.AvgPool2d\n",
    "norm = nn.BatchNorm2d\n",
    "a = lambda: nn.LeakyReLU(.2)\n",
    "D = nn.Sequential(\n",
    "    nn.Conv2d(3,h,3,2,1), norm(h), a(),\n",
    "    ResBlock(h, activation=a, norm=norm, downsample=2),\n",
    "    ResBlock(h, activation=a, norm=norm),\n",
    "    ResBlock(h, activation=a, norm=norm),\n",
    "    a(), pool(8),\n",
    "    ChannelsToLinear(h, 1), nn.Sigmoid()\n",
    ")\n",
    "\n",
    "for layer in (D[0], D[8]):\n",
    "    init.xavier_uniform(layer.weight, 2)\n",
    "    \n",
    "t = Variable(torch.randn(batch_size,3,32,32))\n",
    "assert D(t).size() == (batch_size,1)"
   ]
  },
  {
   "cell_type": "code",
   "execution_count": 13,
   "metadata": {
    "collapsed": true
   },
   "outputs": [],
   "source": [
    "h = 256\n",
    "a = lambda: nn.LeakyReLU(.2)\n",
    "norm = nn.BatchNorm1d\n",
    "C = nn.Sequential(\n",
    "    nn.Linear(latent_dim, h), norm(h), a(),\n",
    "    nn.Linear(h, h), norm(h), a(),\n",
    "    nn.Linear(h, 1), nn.Sigmoid(),\n",
    ")\n",
    "\n",
    "for i,layer in enumerate(C):\n",
    "    if i%3==0:\n",
    "        init.xavier_uniform(layer.weight, 2)\n",
    "\n",
    "t = Variable(torch.randn(batch_size,latent_dim))\n",
    "assert C(t).size() == (batch_size,1)"
   ]
  },
  {
   "cell_type": "code",
   "execution_count": 14,
   "metadata": {},
   "outputs": [],
   "source": [
    "model = alphagan.AlphaGAN(E, G, D, C, latent_dim, lambd=10)\n",
    "if use_gpu:\n",
    "    model = model.cuda()"
   ]
  },
  {
   "cell_type": "code",
   "execution_count": null,
   "metadata": {
    "collapsed": true
   },
   "outputs": [],
   "source": [
    "diag = []\n",
    "def log_fn(d):\n",
    "    d = pd.DataFrame(d)\n",
    "    diag.append(d)\n",
    "    print(d)"
   ]
  },
  {
   "cell_type": "code",
   "execution_count": null,
   "metadata": {},
   "outputs": [
    {
     "data": {
      "application/vnd.jupyter.widget-view+json": {
       "model_id": "906a3f97522742eea4df75db04797fa7"
      }
     },
     "metadata": {},
     "output_type": "display_data"
    },
    {
     "data": {
      "application/vnd.jupyter.widget-view+json": {
       "model_id": "50bdb58d763348838e0e79bd41adcf58"
      }
     },
     "metadata": {},
     "output_type": "display_data"
    },
    {
     "name": "stderr",
     "output_type": "stream",
     "text": [
      "/home/victor/.conda/envs/torch/lib/python3.6/site-packages/torch/nn/modules/upsampling.py:135: UserWarning: nn.UpsamplingNearest2d is deprecated. Use nn.Upsample instead.\n",
      "  warnings.warn(\"nn.UpsamplingNearest2d is deprecated. Use nn.Upsample instead.\")\n"
     ]
    },
    {
     "data": {
      "application/vnd.jupyter.widget-view+json": {
       "model_id": "3f0d277623e243e19c0ef735d314d96b"
      }
     },
     "metadata": {},
     "output_type": "display_data"
    },
    {
     "name": "stdout",
     "output_type": "stream",
     "text": [
      "                            train     valid\n",
      "adversarial_loss         0.763698  0.786654\n",
      "code_adversarial_loss    0.666158  0.665527\n",
      "code_discriminator_loss  1.636050  2.050261\n",
      "discriminator_loss       1.247683  1.317447\n",
      "reconstruction_loss      1.713441  1.626369\n"
     ]
    },
    {
     "data": {
      "application/vnd.jupyter.widget-view+json": {
       "model_id": "f2d5b357768440a182f8dab136f8d6a4"
      }
     },
     "metadata": {},
     "output_type": "display_data"
    },
    {
     "data": {
      "application/vnd.jupyter.widget-view+json": {
       "model_id": "49640fce23714026bcd5de2fcc4b4d6f"
      }
     },
     "metadata": {},
     "output_type": "display_data"
    },
    {
     "name": "stdout",
     "output_type": "stream",
     "text": [
      "                            train     valid\n",
      "adversarial_loss         0.768617  0.822387\n",
      "code_adversarial_loss    0.592550  0.652246\n",
      "code_discriminator_loss  1.583596  1.866234\n",
      "discriminator_loss       1.291427  1.316001\n",
      "reconstruction_loss      1.363657  1.649362\n"
     ]
    },
    {
     "data": {
      "application/vnd.jupyter.widget-view+json": {
       "model_id": "18696093673b4b4597cb7839b04d14cd"
      }
     },
     "metadata": {},
     "output_type": "display_data"
    },
    {
     "data": {
      "application/vnd.jupyter.widget-view+json": {
       "model_id": "28a923876c0d4a85afd7430d7e13e648"
      }
     },
     "metadata": {},
     "output_type": "display_data"
    },
    {
     "name": "stdout",
     "output_type": "stream",
     "text": [
      "                            train     valid\n",
      "adversarial_loss         0.782339  0.950987\n",
      "code_adversarial_loss    0.607436  0.762274\n",
      "code_discriminator_loss  1.549248  1.573001\n",
      "discriminator_loss       1.271981  1.321378\n",
      "reconstruction_loss      1.303240  1.654246\n"
     ]
    },
    {
     "data": {
      "application/vnd.jupyter.widget-view+json": {
       "model_id": "c0e2e08a7f06465993963bbe40829c93"
      }
     },
     "metadata": {},
     "output_type": "display_data"
    }
   ],
   "source": [
    "model.fit(\n",
    "    X_train, X_test,\n",
    "    log_fn = log_fn,\n",
    "    n_iter=(1,2), report_every=1,\n",
    "    n_batches=len(X_train)//10, n_epochs=20\n",
    ")"
   ]
  },
  {
   "cell_type": "code",
   "execution_count": null,
   "metadata": {},
   "outputs": [],
   "source": [
    "fig, ax = plt.subplots(1,1,figsize=(14,8))\n",
    "diagnostic = pd.concat([pd.DataFrame(d.stack(), columns=[i]).T for i,d in enumerate(diag)])\n",
    "cols = list('rgbcmy')\n",
    "colors = defaultdict(lambda: cols.pop())\n",
    "for c in diagnostic:\n",
    "    component, dataset = c\n",
    "    kw = {}\n",
    "    if dataset=='valid':\n",
    "        kw['label'] = component\n",
    "    else:\n",
    "        kw['ls'] = '--'\n",
    "    ax.plot(diagnostic[c].values, c=colors[component], **kw)\n",
    "ax.legend(bbox_to_anchor=(1, 0.7))"
   ]
  },
  {
   "cell_type": "code",
   "execution_count": null,
   "metadata": {},
   "outputs": [],
   "source": [
    "# samples\n",
    "z, x = model(16, mode='sample')\n",
    "fig, ax = plt.subplots(1,1,figsize=(16,4))\n",
    "ax.imshow(make_grid(x.data, normalize=True, range=(-1,1)).cpu().numpy().transpose(1,2,0), interpolation='nearest')"
   ]
  },
  {
   "cell_type": "code",
   "execution_count": null,
   "metadata": {},
   "outputs": [],
   "source": [
    "fig, ax = plt.subplots(1,1,figsize=(16,4))\n",
    "# training reconstructions\n",
    "x = cifar[train_idxs][:12]\n",
    "z, x_rec = model(x)\n",
    "ax.imshow(make_grid(\n",
    "    torch.cat((x, x_rec.cpu().data)), nrow=12, normalize=True, range=(-1,1)\n",
    ").cpu().numpy().transpose(1,2,0), interpolation='nearest')"
   ]
  },
  {
   "cell_type": "code",
   "execution_count": null,
   "metadata": {},
   "outputs": [],
   "source": [
    "x.min()"
   ]
  },
  {
   "cell_type": "code",
   "execution_count": null,
   "metadata": {},
   "outputs": [],
   "source": [
    "fig, ax = plt.subplots(1,1,figsize=(16,4))\n",
    "# test reconstructions\n",
    "x = cifar_test[test_idxs][:12]\n",
    "z, x_rec = model(x)\n",
    "ax.imshow(make_grid(\n",
    "    torch.cat((x, x_rec.cpu().data)), nrow=12, normalize=True\n",
    ").cpu().numpy().transpose(1,2,0), interpolation='nearest')"
   ]
  },
  {
   "cell_type": "code",
   "execution_count": null,
   "metadata": {
    "collapsed": true
   },
   "outputs": [],
   "source": []
  }
 ],
 "metadata": {
  "kernelspec": {
   "display_name": "Python 3",
   "language": "python",
   "name": "python3"
  },
  "language_info": {
   "codemirror_mode": {
    "name": "ipython",
    "version": 3
   },
   "file_extension": ".py",
   "mimetype": "text/x-python",
   "name": "python",
   "nbconvert_exporter": "python",
   "pygments_lexer": "ipython3",
   "version": "3.6.2"
  }
 },
 "nbformat": 4,
 "nbformat_minor": 2
}
